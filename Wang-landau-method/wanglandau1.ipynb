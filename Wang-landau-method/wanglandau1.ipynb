{
 "cells": [
  {
   "cell_type": "code",
   "execution_count": 36,
   "metadata": {
    "collapsed": true
   },
   "outputs": [],
   "source": [
    "#Temperatura y beta\n",
    "kB=1\n",
    "β(T)=1/(kB*T);"
   ]
  },
  {
   "cell_type": "code",
   "execution_count": 37,
   "metadata": {
    "collapsed": false
   },
   "outputs": [
    {
     "data": {
      "text/plain": [
       "config (generic function with 1 method)"
      ]
     },
     "execution_count": 37,
     "metadata": {},
     "output_type": "execute_result"
    }
   ],
   "source": [
    "#Creamos el tipo configuracion\n",
    "type Config\n",
    "    N::Int\n",
    "    M::Int\n",
    "    conf::Array{Float64,2}\n",
    "end\n",
    "\n",
    "#Creamos un constructor de ese tipo \n",
    "function config(a,b)\n",
    "    Config(a,b,2*(int(rand(a,b)))-1)\n",
    "end"
   ]
  },
  {
   "cell_type": "code",
   "execution_count": 38,
   "metadata": {
    "collapsed": false
   },
   "outputs": [
    {
     "data": {
      "text/plain": [
       "magnet (generic function with 1 method)"
      ]
     },
     "execution_count": 38,
     "metadata": {},
     "output_type": "execute_result"
    }
   ],
   "source": [
    "#Función módulo arreglada\n",
    "function mod(i,L)\n",
    "    if i>L\n",
    "        k=1\n",
    "    elseif i==0\n",
    "        k=L\n",
    "    else\n",
    "        k=i\n",
    "    end\n",
    "    k\n",
    "end\n",
    "\n",
    "#Calculo de Energias y magnetización \n",
    "function energia(σ::Config)\n",
    "    L1=σ.N\n",
    "    L2=σ.M\n",
    "    #Calculamos la energía total\n",
    "    E=0\n",
    "        for i in 1:L1\n",
    "            for j in 1:L2\n",
    "                E+=-σ.conf[i,j]*(σ.conf[mod(i-1,L1),j]\n",
    "                    +σ.conf[mod(i+1,L1),j]+σ.conf[i,mod(j-1,L2)]\n",
    "                    +σ.conf[i,mod(j+1,L2)])\n",
    "            end\n",
    "        end\n",
    "        E/2\n",
    "end\n",
    "\n",
    "function magnet(σ::Config)\n",
    "    sum=0\n",
    "    for i in 1:σ.N\n",
    "        for j in 1:σ.M\n",
    "            sum+=σ.conf[i,j]\n",
    "        end\n",
    "    end\n",
    "    sum\n",
    "end"
   ]
  },
  {
   "cell_type": "code",
   "execution_count": 39,
   "metadata": {
    "collapsed": false
   },
   "outputs": [
    {
     "data": {
      "text/plain": [
       "esplano (generic function with 1 method)"
      ]
     },
     "execution_count": 39,
     "metadata": {},
     "output_type": "execute_result"
    }
   ],
   "source": [
    "### histograma y esplano\n",
    "\n",
    "function histograma(A::Array, Cajas::Int=10, normalizado::Int=1) # 1 -> true, 0 -> false\n",
    "    num_datos = length(A)\n",
    "    if normalizado == 1\n",
    "        fact_norm = num_datos\n",
    "    else \n",
    "        fact_norm = 1\n",
    "    end\n",
    "    out = zeros(Int, Cajas)\n",
    "    limitescajas = linspace(minimum(A),maximum(A),Cajas+1)\n",
    "    for i in 1:Cajas\n",
    "        for a in 1:num_datos\n",
    "            if A[a] >= limitescajas[i] && A[a] < limitescajas[i+1]\n",
    "                out[i] += 1\n",
    "            end\n",
    "        end\n",
    "    end\n",
    "    return out/fact_norm\n",
    "end\n",
    "\n",
    "function esplano(histo::Array) # 100 -> max, 0 -> min, el arreglo que se le dá debe ser un histograma\n",
    "    prom = mean(histo)\n",
    "    desviacion = 0\n",
    "    for i in histo\n",
    "        desviacion += abs(prom - i)\n",
    "    end\n",
    "    return (1 - desviacion/(length(histo)*sum(histo)))*100 # desviación total porcentual\n",
    "end"
   ]
  },
  {
   "cell_type": "code",
   "execution_count": 40,
   "metadata": {
    "collapsed": false
   },
   "outputs": [
    {
     "data": {
      "text/plain": [
       "flip_one (generic function with 1 method)"
      ]
     },
     "execution_count": 40,
     "metadata": {},
     "output_type": "execute_result"
    }
   ],
   "source": [
    "function flip_one(A::Array{Float64,2},i::Int64,j::Int64)\n",
    "    A[i,j]*=-1\n",
    "    A\n",
    "end"
   ]
  },
  {
   "cell_type": "code",
   "execution_count": 41,
   "metadata": {
    "collapsed": false
   },
   "outputs": [
    {
     "data": {
      "text/plain": [
       "energia_ij (generic function with 1 method)"
      ]
     },
     "execution_count": 41,
     "metadata": {},
     "output_type": "execute_result"
    }
   ],
   "source": [
    "function energia_ij(configuracion::Array{Float64,2},n::Int64,m::Int64,i::Int64,j::Int64)\n",
    "    -configuracion[i,j]*(configuracion[mod1(i-1,n),j]+configuracion[mod1(i+1,n),j]+\n",
    "        configuracion[i,mod1(j-1,m)]+configuracion[i,mod1(j+1,m)])/2\n",
    "end"
   ]
  },
  {
   "cell_type": "code",
   "execution_count": 42,
   "metadata": {
    "collapsed": false
   },
   "outputs": [],
   "source": [
    "#Algoritmo de wangalandau\n",
    "\n",
    "type Wanglandau\n",
    "    S::Array{Float64,2}\n",
    "    σf::Config\n",
    "end"
   ]
  },
  {
   "cell_type": "code",
   "execution_count": null,
   "metadata": {
    "collapsed": false
   },
   "outputs": [],
   "source": []
  },
  {
   "cell_type": "code",
   "execution_count": 43,
   "metadata": {
    "collapsed": false
   },
   "outputs": [
    {
     "data": {
      "text/plain": [
       "wanglandau (generic function with 2 methods)"
      ]
     },
     "execution_count": 43,
     "metadata": {},
     "output_type": "execute_result"
    }
   ],
   "source": [
    "Nitt=10000000 #Número de iteraciones del algoritmo\n",
    "planitud=0.9 \n",
    "\n",
    "function wanglandau(Nitt,N,M, planitud)\n",
    "    σ=config(N,M)\n",
    "    L1, L2 = σ.N, σ.M\n",
    "    Emin, Emax = -2*L1*L2 , 2*L1*L2\n",
    "    Energias = [Emin:Emax]      #[i for i in Emin:Emax] #Vector de energías\n",
    "    H = zeros(4*L1*L2+1) #Histograma\n",
    "    S = zeros(4*L1*L2-1) #Vector de entropías\n",
    "    E = energia(σ)\n",
    "    H[E-Emin+1] += 1 #Aumentamos en 1 el histograma\n",
    "    f = 1 #factor de modificación inicial\n",
    "    for k in 1:Nitt\n",
    "        i,j=rand(1:L1),rand(1:L2)\n",
    "        ΔE=-2*energia_ij(σ.conf,L1,L2,i,j)\n",
    "        η = exp(S[E-Emin+1])-exp(S[E+ΔE-Emin+1])\n",
    "        if rand() < η\n",
    "            E = E + ΔE\n",
    "            σ.conf = flip_one(σ.conf,i,j)\n",
    "        end\n",
    "        H[E-Emin+1] += 1\n",
    "        S[E-Emin+1] += f\n",
    "        if k%100==0\n",
    "            aH=mean(H)\n",
    "            mH=minimum(H)\n",
    "            if mH>aH*planitud\n",
    "                H = zeros(4*L1*L2+1) #Se reinicia el histograma\n",
    "                f=f/2 #Reducimos el factor de modificació\n",
    "            end\n",
    "        end\n",
    "    end\n",
    "    S,H\n",
    "end"
   ]
  },
  {
   "cell_type": "code",
   "execution_count": 44,
   "metadata": {
    "collapsed": false
   },
   "outputs": [
    {
     "data": {
      "text/plain": [
       "([0.0,0.0,0.0,0.0,0.0,0.0,0.0,0.0,9.99645e6,0.0  …  0.0,0.0,0.0,0.0,0.0,0.0,0.0,0.0,0.0,0.0],[0.0,0.0,0.0,0.0,0.0,0.0,0.0,0.0,9.99645e6,0.0  …  0.0,0.0,0.0,0.0,0.0,0.0,0.0,0.0,0.0,0.0])"
      ]
     },
     "execution_count": 44,
     "metadata": {},
     "output_type": "execute_result"
    }
   ],
   "source": [
    "N,M=3,3\n",
    "wanglandau(Nitt,N,M, planitud)"
   ]
  },
  {
   "cell_type": "code",
   "execution_count": 45,
   "metadata": {
    "collapsed": false
   },
   "outputs": [
    {
     "data": {
      "text/plain": [
       "37-element Array{Float64,1}:\n",
       "   0.0      \n",
       "   0.0      \n",
       "   0.0      \n",
       "   0.0      \n",
       "   0.0      \n",
       "   0.0      \n",
       "   0.0      \n",
       "   0.0      \n",
       "   9.99645e6\n",
       "   0.0      \n",
       "   0.0      \n",
       "   0.0      \n",
       " 710.0      \n",
       "   ⋮        \n",
       "   0.0      \n",
       "   0.0      \n",
       "   0.0      \n",
       "   0.0      \n",
       "   0.0      \n",
       "   0.0      \n",
       "   0.0      \n",
       "   0.0      \n",
       "   0.0      \n",
       "   0.0      \n",
       "   0.0      \n",
       "   0.0      "
      ]
     },
     "execution_count": 45,
     "metadata": {},
     "output_type": "execute_result"
    }
   ],
   "source": [
    "ans[2]"
   ]
  },
  {
   "cell_type": "code",
   "execution_count": null,
   "metadata": {
    "collapsed": false,
    "scrolled": true
   },
   "outputs": [],
   "source": []
  },
  {
   "cell_type": "code",
   "execution_count": null,
   "metadata": {
    "collapsed": false
   },
   "outputs": [],
   "source": []
  },
  {
   "cell_type": "code",
   "execution_count": null,
   "metadata": {
    "collapsed": false
   },
   "outputs": [],
   "source": []
  },
  {
   "cell_type": "code",
   "execution_count": null,
   "metadata": {
    "collapsed": false
   },
   "outputs": [],
   "source": []
  },
  {
   "cell_type": "code",
   "execution_count": null,
   "metadata": {
    "collapsed": true
   },
   "outputs": [],
   "source": []
  }
 ],
 "metadata": {
  "kernelspec": {
   "display_name": "Julia 0.3.6-pre",
   "language": "julia",
   "name": "julia 0.3"
  },
  "language_info": {
   "name": "julia",
   "version": "0.3.6"
  }
 },
 "nbformat": 4,
 "nbformat_minor": 0
}
