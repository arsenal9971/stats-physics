{
 "cells": [
  {
   "cell_type": "code",
   "execution_count": 1,
   "metadata": {
    "collapsed": false,
    "scrolled": false
   },
   "outputs": [
    {
     "name": "stderr",
     "output_type": "stream",
     "text": [
      "INFO: Loading help data...\n"
     ]
    }
   ],
   "source": [
    "using PyPlot"
   ]
  },
  {
   "cell_type": "code",
   "execution_count": 2,
   "metadata": {
    "collapsed": false
   },
   "outputs": [],
   "source": [
    "using funciones"
   ]
  },
  {
   "cell_type": "code",
   "execution_count": 3,
   "metadata": {
    "collapsed": false
   },
   "outputs": [
    {
     "data": {
      "text/plain": [
       "aceptar (generic function with 1 method)"
      ]
     },
     "execution_count": 3,
     "metadata": {},
     "output_type": "execute_result"
    }
   ],
   "source": [
    "function η(S::Array{Float64},N::Int64,M::Int64,i::Int64,j::Int64, E::Float64, ΔE, Emin)\n",
    "    return min(1, exp(S[E - Emin + 1]-S[E - Emin + 1 + ΔE]))\n",
    "end\n",
    "function aceptar(S::Array{Float64},N::Int64,M::Int64,i::Int64,j::Int64, E::Float64, ΔE, Emin)\n",
    "    eta = η(S,N,M,i,j,E,ΔE,Emin)\n",
    "    #@show alpha\n",
    "    if rand()<=eta\n",
    "        return 1\n",
    "    else\n",
    "        return 0\n",
    "    end\n",
    "end"
   ]
  },
  {
   "cell_type": "code",
   "execution_count": 22,
   "metadata": {
    "collapsed": false
   },
   "outputs": [
    {
     "data": {
      "text/plain": [
       "wanglandau1 (generic function with 1 method)"
      ]
     },
     "execution_count": 22,
     "metadata": {},
     "output_type": "execute_result"
    }
   ],
   "source": [
    "function wanglandau1(N::Int,M::Int)\n",
    "    f, N2, Emin = 1, N*M, -2*N*M\n",
    "    σ = config(N,M)\n",
    "    E = energia(σ)\n",
    "    H = zeros(Int,4*N2 + 1)\n",
    "    S = zeros(4*N2 + 1)\n",
    "    k=0\n",
    "    while f > 1e-7\n",
    "        i,j = rand(1:N),rand(1:M)\n",
    "        ΔE = -2*energia_ij(σ.conf,N,M,i,j)\n",
    "    \n",
    "        if rand() < η(S,N,M,i,j,E,ΔE,Emin)\n",
    "            E = E + ΔE\n",
    "            σ.conf = flip_one(σ.conf,i,j)\n",
    "        end\n",
    "        \n",
    "        H[E - Emin + 1] += 1\n",
    "        S[E - Emin + 1] += f\n",
    "        k += 1\n",
    "        if k > 4*N2 && minimum(H[H.!=0])>=0.85*mean(H[H.!=0])\n",
    "            H[:] = 0\n",
    "            f *= 0.5 \n",
    "            k=0\n",
    "        end\n",
    "    end\n",
    "    S\n",
    "end"
   ]
  },
  {
   "cell_type": "code",
   "execution_count": null,
   "metadata": {
    "collapsed": false,
    "scrolled": false
   },
   "outputs": [],
   "source": [
    "@time wl1=wanglandau1(50,50)\n",
    "wl1[wl1.!=0]"
   ]
  },
  {
   "cell_type": "code",
   "execution_count": 10,
   "metadata": {
    "collapsed": false
   },
   "outputs": [
    {
     "data": {
      "text/plain": [
       "Z (generic function with 2 methods)"
      ]
     },
     "execution_count": 10,
     "metadata": {},
     "output_type": "execute_result"
    }
   ],
   "source": [
    "function Z(T, N, M, wl)\n",
    "    ZZ = big(0)\n",
    "    Energias = [-2*M*N:2*M*N]\n",
    "    SS = wl\n",
    "    g(SS)=[exp(i) for i in SS] \n",
    "    for E in Energias\n",
    "        ZZ += g(SS)[E-Energias[1]+1]*exp(-β(T)*E)\n",
    "    end\n",
    "    ZZ\n",
    "end"
   ]
  },
  {
   "cell_type": "markdown",
   "metadata": {},
   "source": [
    "elapsed time: 123.712572832 seconds (64891052328 bytes allocated, 43.05% gc time)"
   ]
  },
  {
   "cell_type": "code",
   "execution_count": 13,
   "metadata": {
    "collapsed": false,
    "scrolled": false
   },
   "outputs": [
    {
     "name": "stdout",
     "output_type": "stream",
     "text": [
      "elapsed time: 0.000251862 seconds (113248 bytes allocated)\n"
     ]
    },
    {
     "data": {
      "text/plain": [
       "5.07802770356243146035612227394501317216384199741870845497083726822277383762939e+169 with 256 bits of precision"
      ]
     },
     "execution_count": 13,
     "metadata": {},
     "output_type": "execute_result"
    }
   ],
   "source": [
    "@time Z1=Z(5,5,5,wl1)"
   ]
  },
  {
   "cell_type": "code",
   "execution_count": 14,
   "metadata": {
    "collapsed": false
   },
   "outputs": [
    {
     "data": {
      "text/plain": [
       "0.0"
      ]
     },
     "execution_count": 14,
     "metadata": {},
     "output_type": "execute_result"
    }
   ],
   "source": [
    "log(1)"
   ]
  },
  {
   "cell_type": "code",
   "execution_count": 15,
   "metadata": {
    "collapsed": false,
    "scrolled": true
   },
   "outputs": [
    {
     "data": {
      "text/plain": [
       "F (generic function with 1 method)"
      ]
     },
     "execution_count": 15,
     "metadata": {},
     "output_type": "execute_result"
    }
   ],
   "source": [
    "F(T,N,M) = -T*log(Z(T,N,M))"
   ]
  },
  {
   "cell_type": "code",
   "execution_count": 15,
   "metadata": {
    "collapsed": false
   },
   "outputs": [
    {
     "data": {
      "text/plain": [
       "Ebarra (generic function with 1 method)"
      ]
     },
     "execution_count": 15,
     "metadata": {},
     "output_type": "execute_result"
    }
   ],
   "source": [
    "function Ebarra(T,N,M,Wl)\n",
    "    Eprom = big(0)\n",
    "    Emin, Emax = -2*N*M, 2*N*M\n",
    "    Energias = [Emin:Emax]\n",
    "    for E in Energias\n",
    "        Eprom += E*exp(-β(T)*E)\n",
    "    end\n",
    "    Eprom/Z(T,N,M,Wl)\n",
    "end"
   ]
  },
  {
   "cell_type": "code",
   "execution_count": 16,
   "metadata": {
    "collapsed": false
   },
   "outputs": [],
   "source": [
    "N, M = 5, 5\n",
    "Ts = [0.01:0.5:5.01]\n",
    "out1 = zeros(length(Ts))\n",
    "for T in 1:length(Ts)\n",
    "    out1[T] = Ebarra(T,N,M,wl1)\n",
    "end"
   ]
  },
  {
   "cell_type": "code",
   "execution_count": 17,
   "metadata": {
    "collapsed": false
   },
   "outputs": [
    {
     "data": {
      "image/png": "[encoded data removed]",
      "text/plain": [
       "Figure(PyObject <matplotlib.figure.Figure object at 0x7ff69664cd10>)"
      ]
     },
     "metadata": {},
     "output_type": "display_data"
    },
    {
     "data": {
      "text/plain": [
       "1-element Array{Any,1}:\n",
       " PyObject <matplotlib.lines.Line2D object at 0x7ff6d26c2890>"
      ]
     },
     "execution_count": 17,
     "metadata": {},
     "output_type": "execute_result"
    }
   ],
   "source": [
    "plot(Ts,out1)"
   ]
  },
  {
   "cell_type": "code",
   "execution_count": 18,
   "metadata": {
    "collapsed": false
   },
   "outputs": [
    {
     "data": {
      "text/plain": [
       "11-element Array{Float64,1}:\n",
       " -1.1372e-151 \n",
       " -1.6847e-158 \n",
       " -2.40222e-161\n",
       " -8.26654e-163\n",
       " -1.08837e-163\n",
       " -2.83627e-164\n",
       " -1.09411e-164\n",
       " -5.39219e-165\n",
       " -3.12665e-165\n",
       " -2.02993e-165\n",
       " -1.42978e-165"
      ]
     },
     "execution_count": 18,
     "metadata": {},
     "output_type": "execute_result"
    }
   ],
   "source": [
    "out1"
   ]
  },
  {
   "cell_type": "code",
   "execution_count": null,
   "metadata": {
    "collapsed": true
   },
   "outputs": [],
   "source": []
  },
  {
   "cell_type": "code",
   "execution_count": 17,
   "metadata": {
    "collapsed": false
   },
   "outputs": [
    {
     "name": "stdout",
     "output_type": "stream",
     "text": [
      "elapsed time: 458.938343951 seconds (116232987072 bytes allocated, 14.75% gc time)\n"
     ]
    },
    {
     "data": {
      "text/plain": [
       "206256-element Array{Float64,1}:\n",
       "  1.0\n",
       "  5.0\n",
       "  6.0\n",
       " 20.0\n",
       " 23.0\n",
       " 24.0\n",
       " 22.0\n",
       " 24.0\n",
       " 14.0\n",
       " 23.0\n",
       " 21.0\n",
       " 22.0\n",
       " 20.0\n",
       "  ⋮  \n",
       " 16.0\n",
       " 14.0\n",
       " 18.0\n",
       " 17.0\n",
       " 16.0\n",
       " 14.0\n",
       " 16.0\n",
       "  8.0\n",
       "  5.0\n",
       "  2.0\n",
       "  3.0\n",
       "  3.0"
      ]
     },
     "execution_count": 17,
     "metadata": {},
     "output_type": "execute_result"
    }
   ],
   "source": [
    "@time S3=wanglandau(2048,2048)\n",
    "S3[S3.!=0]"
   ]
  },
  {
   "cell_type": "code",
   "execution_count": 20,
   "metadata": {
    "collapsed": false
   },
   "outputs": [
    {
     "data": {
      "text/plain": [
       "1.474941294030095000021539377981498862254438259745985335670066011382704471745269e+218 with 256 bits of precision"
      ]
     },
     "execution_count": 20,
     "metadata": {},
     "output_type": "execute_result"
    }
   ],
   "source": [
    "z10 = Z(10,50,50)"
   ]
  },
  {
   "cell_type": "code",
   "execution_count": 21,
   "metadata": {
    "collapsed": false
   },
   "outputs": [
    {
     "data": {
      "text/plain": [
       "5.023521684610441123640241553769232355816049144057300506391295721619492420447374e+02 with 256 bits of precision"
      ]
     },
     "execution_count": 21,
     "metadata": {},
     "output_type": "execute_result"
    }
   ],
   "source": [
    "log(z10)"
   ]
  },
  {
   "cell_type": "code",
   "execution_count": 36,
   "metadata": {
    "collapsed": true
   },
   "outputs": [],
   "source": [
    "TT=[10:0.1:15]\n",
    "ZZ=[log(Z(T,50,50)) for T in TT];"
   ]
  },
  {
   "cell_type": "code",
   "execution_count": 51,
   "metadata": {
    "collapsed": false
   },
   "outputs": [
    {
     "data": {
      "image/png": "[encoded data removed]",
      "text/plain": [
       "Figure(PyObject <matplotlib.figure.Figure object at 0x7fe3b2d2ee50>)"
      ]
     },
     "metadata": {},
     "output_type": "display_data"
    },
    {
     "data": {
      "text/plain": [
       "1-element Array{Any,1}:\n",
       " PyObject <matplotlib.lines.Line2D object at 0x7fe3b2cb94d0>"
      ]
     },
     "execution_count": 51,
     "metadata": {},
     "output_type": "execute_result"
    }
   ],
   "source": [
    "plot(SS)"
   ]
  },
  {
   "cell_type": "code",
   "execution_count": 35,
   "metadata": {
    "collapsed": false
   },
   "outputs": [
    {
     "data": {
      "text/plain": [
       "51-element Array{Any,1}:\n",
       " inf\n",
       " inf\n",
       " inf\n",
       " inf\n",
       " inf\n",
       " inf\n",
       " inf\n",
       " inf\n",
       " inf\n",
       " inf\n",
       " inf\n",
       " inf\n",
       " inf\n",
       "   ⋮\n",
       " inf\n",
       " inf\n",
       " inf\n",
       " inf\n",
       " inf\n",
       " inf\n",
       " inf\n",
       " inf\n",
       " inf\n",
       " inf\n",
       " inf\n",
       " inf"
      ]
     },
     "execution_count": 35,
     "metadata": {},
     "output_type": "execute_result"
    }
   ],
   "source": [
    "ZZ"
   ]
  },
  {
   "cell_type": "code",
   "execution_count": null,
   "metadata": {
    "collapsed": true
   },
   "outputs": [],
   "source": []
  }
 ],
 "metadata": {
  "kernelspec": {
   "display_name": "Julia 0.3.8",
   "language": "julia",
   "name": "julia-0.3"
  },
  "language_info": {
   "name": "julia",
   "version": "0.3.8"
  }
 },
 "nbformat": 4,
 "nbformat_minor": 0
}
