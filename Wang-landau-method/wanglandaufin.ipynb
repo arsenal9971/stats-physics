{
 "cells": [
  {
   "cell_type": "code",
   "execution_count": 1,
   "metadata": {
    "collapsed": false
   },
   "outputs": [
    {
     "name": "stderr",
     "output_type": "stream",
     "text": [
      "INFO: Loading help data...\n"
     ]
    }
   ],
   "source": [
    "using PyPlot"
   ]
  },
  {
   "cell_type": "code",
   "execution_count": 2,
   "metadata": {
    "collapsed": true
   },
   "outputs": [],
   "source": [
    "#Temperatura y beta\n",
    "kB=1\n",
    "β(T)=1/(kB*T);"
   ]
  },
  {
   "cell_type": "code",
   "execution_count": 3,
   "metadata": {
    "collapsed": true
   },
   "outputs": [],
   "source": [
    "#Creamos el tipo configuracion\n",
    "type Config\n",
    "    N::Int\n",
    "    M::Int\n",
    "    conf::Array{Float64,2}\n",
    "end"
   ]
  },
  {
   "cell_type": "code",
   "execution_count": 4,
   "metadata": {
    "collapsed": false
   },
   "outputs": [
    {
     "data": {
      "text/plain": [
       "config (generic function with 1 method)"
      ]
     },
     "execution_count": 4,
     "metadata": {},
     "output_type": "execute_result"
    }
   ],
   "source": [
    "#Creamos un constructor de ese tipo \n",
    "function config(a,b)\n",
    "    Config(a,b,2*(int(rand(a,b)))-1)\n",
    "end"
   ]
  },
  {
   "cell_type": "code",
   "execution_count": 5,
   "metadata": {
    "collapsed": false
   },
   "outputs": [
    {
     "data": {
      "text/plain": [
       "energia_total (generic function with 1 method)"
      ]
     },
     "execution_count": 5,
     "metadata": {},
     "output_type": "execute_result"
    }
   ],
   "source": [
    "#Calculo de Energias\n",
    "   \n",
    "function energia_total(σ::Config)\n",
    "    L1, L2 = σ.N, σ.M\n",
    "    E = 0.0\n",
    "    for i in 1:L1\n",
    "        for j in 1:L2\n",
    "            E += -σ.conf[i,j]*(σ.conf[mod1(i-1,L1),j]+σ.conf[mod1(i+1,L1),j]+\n",
    "            σ.conf[i,mod1(j-1,L2)]+σ.conf[i,mod1(j+1,L2)])\n",
    "        end\n",
    "    end\n",
    "    E/2\n",
    "end"
   ]
  },
  {
   "cell_type": "code",
   "execution_count": 6,
   "metadata": {
    "collapsed": false
   },
   "outputs": [
    {
     "data": {
      "text/plain": [
       "magnet (generic function with 1 method)"
      ]
     },
     "execution_count": 6,
     "metadata": {},
     "output_type": "execute_result"
    }
   ],
   "source": [
    "function magnet(σ::Config)#?\n",
    "    sum=0\n",
    "    for i in 1:σ.N\n",
    "        for j in 1:σ.M\n",
    "            sum+=σ.conf[i,j]\n",
    "        end\n",
    "    end\n",
    "    sum\n",
    "end"
   ]
  },
  {
   "cell_type": "code",
   "execution_count": 7,
   "metadata": {
    "collapsed": false
   },
   "outputs": [
    {
     "data": {
      "text/plain": [
       "esplano (generic function with 1 method)"
      ]
     },
     "execution_count": 7,
     "metadata": {},
     "output_type": "execute_result"
    }
   ],
   "source": [
    "function esplano(histo::Array) # 100 -> max, 0 -> min, el arreglo que se le dá debe ser un histograma\n",
    "    prom = mean(histo)\n",
    "    desviacion = 0\n",
    "    for i in histo\n",
    "        desviacion += abs(prom - i)\n",
    "    end\n",
    "    return (1 - desviacion/(length(histo)*sum(histo)))*100 # desviación total porcentual\n",
    "end"
   ]
  },
  {
   "cell_type": "code",
   "execution_count": 8,
   "metadata": {
    "collapsed": false
   },
   "outputs": [
    {
     "data": {
      "text/plain": [
       "flip_one (generic function with 1 method)"
      ]
     },
     "execution_count": 8,
     "metadata": {},
     "output_type": "execute_result"
    }
   ],
   "source": [
    "function flip_one(A::Array{Float64,2},i::Int64,j::Int64)\n",
    "    A[i,j]*=-1\n",
    "    A\n",
    "end"
   ]
  },
  {
   "cell_type": "code",
   "execution_count": 9,
   "metadata": {
    "collapsed": false
   },
   "outputs": [
    {
     "data": {
      "text/plain": [
       "energia_ij (generic function with 1 method)"
      ]
     },
     "execution_count": 9,
     "metadata": {},
     "output_type": "execute_result"
    }
   ],
   "source": [
    "function energia_ij(configuracion::Array{Float64,2},n::Int64,m::Int64,i::Int64,j::Int64)\n",
    "    -configuracion[i,j]*(configuracion[mod1(i-1,n),j]+configuracion[mod1(i+1,n),j]+\n",
    "        configuracion[i,mod1(j-1,m)]+configuracion[i,mod1(j+1,m)])/2\n",
    "end"
   ]
  },
  {
   "cell_type": "code",
   "execution_count": 10,
   "metadata": {
    "collapsed": false
   },
   "outputs": [
    {
     "data": {
      "text/plain": [
       "esplano (generic function with 1 method)"
      ]
     },
     "execution_count": 10,
     "metadata": {},
     "output_type": "execute_result"
    }
   ],
   "source": [
    "function esplano(histo::Array) # 100 -> max, 0 -> min, el arreglo que se le dá debe ser un histograma\n",
    "    prom = mean(histo)\n",
    "    desviacion = 0\n",
    "    for i in histo\n",
    "        desviacion += abs(prom - i)\n",
    "    end\n",
    "    return (1 - desviacion/(length(histo)*sum(histo))) # desviación total\n",
    "end"
   ]
  },
  {
   "cell_type": "code",
   "execution_count": 11,
   "metadata": {
    "collapsed": false,
    "scrolled": true
   },
   "outputs": [
    {
     "data": {
      "text/plain": [
       "13"
      ]
     },
     "execution_count": 11,
     "metadata": {},
     "output_type": "execute_result"
    }
   ],
   "source": [
    "int(25/2)"
   ]
  },
  {
   "cell_type": "code",
   "execution_count": 12,
   "metadata": {
    "collapsed": false
   },
   "outputs": [
    {
     "data": {
      "text/plain": [
       "wanglandau (generic function with 1 method)"
      ]
     },
     "execution_count": 12,
     "metadata": {},
     "output_type": "execute_result"
    }
   ],
   "source": [
    "function wanglandau(N,M)\n",
    "    σ=config(N,M)\n",
    "    Emin, Emax = -2*N*M, 2*N*M\n",
    "    Energias = [Emin:Emax]   #Vector de energías\n",
    "    H = zeros(length(Energias)) #Histograma\n",
    "    S = zeros(length(Energias)) #Vector de entropías\n",
    "    E = energia_total(σ)\n",
    "    H[E-Emin+1] += 1 #Aumentamos en 1 el histograma\n",
    "    f = 1 #factor de modificación inicia\n",
    "    while f >= 1e-6\n",
    "        #LLenamos el histograma al principio\n",
    "        for k in 1:(2*length(H))\n",
    "            i,j = rand(1:N),rand(1:M)\n",
    "            ΔE = -2*energia_ij(σ.conf,N,M,i,j)\n",
    "            η = min(1, exp(S[E-Emin+1])-exp(S[E+ΔE-Emin+1]))\n",
    "            if rand() < η\n",
    "                E = E + ΔE\n",
    "                σ.conf = flip_one(σ.conf,i,j)\n",
    "            end\n",
    "            H[E-Emin+1] += 1\n",
    "            S[E-Emin+1] += f\n",
    "            end\n",
    "        #Ahora empezamos el algoritmo\n",
    "        while esplano(H/sum(H)) <.90 #minimum(H[H.!=0])<0.8*mean(H[H.!=0])\n",
    "            i,j = rand(1:N),rand(1:M)\n",
    "            ΔE = -2*energia_ij(σ.conf,N,M,i,j)\n",
    "            η = min(1, exp(S[E-Emin+1])-exp(S[E+ΔE-Emin+1]))\n",
    "            if rand() < η\n",
    "                E = E + ΔE\n",
    "                σ.conf = flip_one(σ.conf,i,j)\n",
    "            end\n",
    "            H[E-Emin+1] += 1\n",
    "            S[E-Emin+1] += f\n",
    "        end\n",
    "        H = zeros(length(Energias)) #Histograma\n",
    "        f = f/2\n",
    "    end\n",
    "    S\n",
    "end"
   ]
  },
  {
   "cell_type": "code",
   "execution_count": 13,
   "metadata": {
    "collapsed": false
   },
   "outputs": [
    {
     "data": {
      "text/plain": [
       "Z (generic function with 1 method)"
      ]
     },
     "execution_count": 13,
     "metadata": {},
     "output_type": "execute_result"
    }
   ],
   "source": [
    "#Función de particion\n",
    "function Z(T, N, M)\n",
    "    ZZ = big(0)\n",
    "    Emin, Emax = -2*N*M, 2*N*M\n",
    "    Energias = [Emin:Emax]\n",
    "    SS = wanglandau(N,N)\n",
    "    g(SS)=[exp(i) for i in SS] \n",
    "    for E in Energias\n",
    "        ZZ += g(SS)[E-Emin+1]*exp(-β(T)*E)\n",
    "    end\n",
    "    ZZ\n",
    "end"
   ]
  },
  {
   "cell_type": "code",
   "execution_count": 14,
   "metadata": {
    "collapsed": false
   },
   "outputs": [
    {
     "data": {
      "text/plain": [
       "101-element Array{Float64,1}:\n",
       " 0.0\n",
       " 0.0\n",
       " 0.0\n",
       " 0.0\n",
       " 0.0\n",
       " 0.0\n",
       " 0.0\n",
       " 0.0\n",
       " 0.0\n",
       " 0.0\n",
       " 0.0\n",
       " 0.0\n",
       " 0.0\n",
       " ⋮  \n",
       " 0.0\n",
       " 0.0\n",
       " 0.0\n",
       " 0.0\n",
       " 0.0\n",
       " 0.0\n",
       " 0.0\n",
       " 0.0\n",
       " 0.0\n",
       " 0.0\n",
       " 0.0\n",
       " 0.0"
      ]
     },
     "execution_count": 14,
     "metadata": {},
     "output_type": "execute_result"
    }
   ],
   "source": [
    "#Entropia final\n",
    "N=5\n",
    "M=5\n",
    "\n",
    "SS=wanglandau(N,N)\n",
    "g(SS)=[exp(i) for i in SS] \n",
    "Emin, Emax = -2*N*M , 2*N*M;\n",
    "Energias = [Emin:Emax] ;\n",
    "SS"
   ]
  },
  {
   "cell_type": "code",
   "execution_count": 15,
   "metadata": {
    "collapsed": false,
    "scrolled": false
   },
   "outputs": [
    {
     "data": {
      "image/png": "[encoded data removed]",
      "text/plain": [
       "Figure(PyObject <matplotlib.figure.Figure object at 0x7ff03804cd10>)"
      ]
     },
     "metadata": {},
     "output_type": "display_data"
    },
    {
     "data": {
      "text/plain": [
       "1-element Array{Any,1}:\n",
       " PyObject <matplotlib.lines.Line2D object at 0x7ff06f9c8990>"
      ]
     },
     "execution_count": 15,
     "metadata": {},
     "output_type": "execute_result"
    }
   ],
   "source": [
    "plot(SS)"
   ]
  },
  {
   "cell_type": "code",
   "execution_count": 16,
   "metadata": {
    "collapsed": false
   },
   "outputs": [
    {
     "name": "stdout",
     "output_type": "stream",
     "text": [
      "elapsed time: 0.019047011 seconds (3658984 bytes allocated)\n"
     ]
    },
    {
     "data": {
      "image/png": "[encoded data removed]",
      "text/plain": [
       "Figure(PyObject <matplotlib.figure.Figure object at 0x7ff0726c4390>)"
      ]
     },
     "metadata": {},
     "output_type": "display_data"
    },
    {
     "data": {
      "text/plain": [
       "1-element Array{Any,1}:\n",
       " PyObject <matplotlib.lines.Line2D object at 0x7ff032cb3910>"
      ]
     },
     "execution_count": 16,
     "metadata": {},
     "output_type": "execute_result"
    }
   ],
   "source": [
    "N, M = 20, 20\n",
    "@time wanglandau(N,M)\n",
    "plot([-2*N*M:2*N*M], wanglandau(N,M))"
   ]
  },
  {
   "cell_type": "code",
   "execution_count": 17,
   "metadata": {
    "collapsed": false
   },
   "outputs": [],
   "source": [
    "N, M = 50, 50\n",
    "Temperaturas = [0.1:1:20.1]\n",
    "lenT = length(Temperaturas)\n",
    "out = zeros(lenT)\n",
    "for i in 1:lenT\n",
    "\n",
    "    out[i] = Z(Temperaturas[i], N, M)\n",
    "end"
   ]
  },
  {
   "cell_type": "code",
   "execution_count": 18,
   "metadata": {
    "collapsed": false
   },
   "outputs": [
    {
     "data": {
      "image/png": "[encoded data removed]",
      "text/plain": [
       "Figure(PyObject <matplotlib.figure.Figure object at 0x7ff0726ba810>)"
      ]
     },
     "metadata": {},
     "output_type": "display_data"
    },
    {
     "data": {
      "text/plain": [
       "1-element Array{Any,1}:\n",
       " PyObject <matplotlib.lines.Line2D object at 0x7ff032bfed50>"
      ]
     },
     "execution_count": 18,
     "metadata": {},
     "output_type": "execute_result"
    }
   ],
   "source": [
    "plot(Temperaturas, log(out))"
   ]
  },
  {
   "cell_type": "code",
   "execution_count": 19,
   "metadata": {
    "collapsed": false
   },
   "outputs": [
    {
     "name": "stdout",
     "output_type": "stream",
     "text": [
      "elapsed time: 20.998937843 seconds (12904151300 bytes allocated, 40.61% gc time)\n"
     ]
    },
    {
     "data": {
      "text/plain": [
       "inf with 256 bits of precision"
      ]
     },
     "execution_count": 19,
     "metadata": {},
     "output_type": "execute_result"
    }
   ],
   "source": [
    "@time Z(2,100,100)"
   ]
  },
  {
   "cell_type": "code",
   "execution_count": 20,
   "metadata": {
    "collapsed": false
   },
   "outputs": [
    {
     "data": {
      "text/plain": [
       "Ebarra (generic function with 1 method)"
      ]
     },
     "execution_count": 20,
     "metadata": {},
     "output_type": "execute_result"
    }
   ],
   "source": [
    "function Ebarra(T,N,M)\n",
    "    Eprom = big(0)\n",
    "    Emin, Emax = -2*N*M, 2*N*M\n",
    "    Energias = [Emin:Emax]\n",
    "    for E in Energias\n",
    "        Eprom += E*exp(-β(T)*E)\n",
    "    end\n",
    "    Eprom/Z(T,M,N)\n",
    "end"
   ]
  },
  {
   "cell_type": "code",
   "execution_count": 21,
   "metadata": {
    "collapsed": false
   },
   "outputs": [],
   "source": [
    "N, M = 20, 20\n",
    "Ts = [0.01:0.5:20.01]\n",
    "out1 = zeros(length(Ts))\n",
    "for T in 1:length(Ts)\n",
    "    out1[T] = Ebarra(T,N,M)\n",
    "end"
   ]
  },
  {
   "cell_type": "code",
   "execution_count": 22,
   "metadata": {
    "collapsed": false
   },
   "outputs": [
    {
     "data": {
      "image/png": "[encoded data removed]",
      "text/plain": [
       "Figure(PyObject <matplotlib.figure.Figure object at 0x7ff032ceb750>)"
      ]
     },
     "metadata": {},
     "output_type": "display_data"
    },
    {
     "data": {
      "text/plain": [
       "1-element Array{Any,1}:\n",
       " PyObject <matplotlib.lines.Line2D object at 0x7ff032b34710>"
      ]
     },
     "execution_count": 22,
     "metadata": {},
     "output_type": "execute_result"
    }
   ],
   "source": [
    "plot(Ts,out1)"
   ]
  },
  {
   "cell_type": "code",
   "execution_count": 23,
   "metadata": {
    "collapsed": false
   },
   "outputs": [
    {
     "data": {
      "text/plain": [
       "8.093681933413772745922697139018575296002888215334370382524350344622629734089303e-01 with 256 bits of precision"
      ]
     },
     "execution_count": 23,
     "metadata": {},
     "output_type": "execute_result"
    }
   ],
   "source": [
    "Ebarra(20,30,30)^2"
   ]
  },
  {
   "cell_type": "code",
   "execution_count": 24,
   "metadata": {
    "collapsed": false,
    "scrolled": true
   },
   "outputs": [
    {
     "data": {
      "text/plain": [
       "1.036628852219889175289062924498316190735915096992397245827894696487400745584836e+42 with 256 bits of precision"
      ]
     },
     "execution_count": 24,
     "metadata": {},
     "output_type": "execute_result"
    }
   ],
   "source": [
    "Z(20,30,30)"
   ]
  },
  {
   "cell_type": "code",
   "execution_count": 25,
   "metadata": {
    "collapsed": false
   },
   "outputs": [
    {
     "data": {
      "text/plain": [
       "Ebarra2 (generic function with 1 method)"
      ]
     },
     "execution_count": 25,
     "metadata": {},
     "output_type": "execute_result"
    }
   ],
   "source": [
    "function Ebarra2(T,N,M)\n",
    "    Eprom = big(0)\n",
    "    Emin, Emax = -2*N*M, 2*N*M\n",
    "    Energias = [Emin:Emax]\n",
    "    for E in Energias\n",
    "        Eprom += E^2*exp(-β(T)*E)\n",
    "    end\n",
    "    Eprom/Z(T,M,N)\n",
    "end"
   ]
  },
  {
   "cell_type": "code",
   "execution_count": 26,
   "metadata": {
    "collapsed": false
   },
   "outputs": [
    {
     "data": {
      "text/plain": [
       "2.998690253384135146992483543751713666644340772116050262889311661211366951971331e+06 with 256 bits of precision"
      ]
     },
     "execution_count": 26,
     "metadata": {},
     "output_type": "execute_result"
    }
   ],
   "source": [
    "Ebarra2(20,30,30)"
   ]
  },
  {
   "cell_type": "code",
   "execution_count": 27,
   "metadata": {
    "collapsed": false
   },
   "outputs": [],
   "source": [
    "N, M = 20, 20\n",
    "Ts = [0.01:0.5:20.01]\n",
    "out2 = zeros(length(Ts))\n",
    "for T in 1:length(Ts)\n",
    "    out2[T] = (β(T))^2(Ebarra2(T,N,M) - (Ebarra(T,N,M))^2)\n",
    "end"
   ]
  },
  {
   "cell_type": "code",
   "execution_count": 28,
   "metadata": {
    "collapsed": false
   },
   "outputs": [
    {
     "data": {
      "image/png": "[encoded data removed]",
      "text/plain": [
       "Figure(PyObject <matplotlib.figure.Figure object at 0x7ff06f976610>)"
      ]
     },
     "metadata": {},
     "output_type": "display_data"
    },
    {
     "data": {
      "text/plain": [
       "1-element Array{Any,1}:\n",
       " PyObject <matplotlib.lines.Line2D object at 0x7ff032a60710>"
      ]
     },
     "execution_count": 28,
     "metadata": {},
     "output_type": "execute_result"
    }
   ],
   "source": [
    "plot(Ts,out2)"
   ]
  },
  {
   "cell_type": "code",
   "execution_count": null,
   "metadata": {
    "collapsed": true
   },
   "outputs": [],
   "source": []
  }
 ],
 "metadata": {
  "kernelspec": {
   "display_name": "Julia 0.3.8",
   "language": "julia",
   "name": "julia-0.3"
  },
  "language_info": {
   "name": "julia",
   "version": "0.3.8"
  }
 },
 "nbformat": 4,
 "nbformat_minor": 0
}
