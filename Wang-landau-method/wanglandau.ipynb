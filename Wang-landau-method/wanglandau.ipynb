{
 "cells": [
  {
   "cell_type": "markdown",
   "metadata": {
    "slideshow": {
     "slide_type": "slide"
    }
   },
   "source": [
    "# Algoritmo de Wang-Landau \n",
    "\n",
    "- Lartaun Aramis de Icaza Astiz.\n",
    "- Héctor Andrade Loarca"
   ]
  },
  {
   "cell_type": "markdown",
   "metadata": {
    "slideshow": {
     "slide_type": "skip"
    }
   },
   "source": [
    "ipython nbconvert wanglandau.ipynb --to slides --reveal-prefix \"http://cdn.jsdelivr.net/reveal.js/2.6.2\" --post serve"
   ]
  },
  {
   "cell_type": "markdown",
   "metadata": {
    "collapsed": true,
    "slideshow": {
     "slide_type": "slide"
    }
   },
   "source": [
    "Existen distintos metodos de tipo Monte Carlo, en clase ya revisamos el método de Metropolis-Hasting, en el cual se calculan las cantidades que describen al sistema físico en términos de promedios de energía obtenidas en una caminata aleatoria en el espacio fase, evitas generar la infinidad de estados, aproximándola con el mayor número posible de estados aleatoriamente generados. "
   ]
  },
  {
   "cell_type": "markdown",
   "metadata": {
    "slideshow": {
     "slide_type": "fragment"
    }
   },
   "source": [
    "Un método Monte Carlo muy reciente es el propuesto por el físico chino Fugao Wang y el físico estadounidense David. P Landau en 2001, al método se le conoce como algoritmo de wang-landau o Montecarlo de histograma plano."
   ]
  },
  {
   "cell_type": "markdown",
   "metadata": {
    "slideshow": {
     "slide_type": "slide"
    }
   },
   "source": [
    "Recordemos que si tenemos un sistema físico con energías posibles $E_i$ a una temperatura T, entonces la función de partición está dada por:\n",
    "\\begin{equation}\n",
    "Z(T)=\\sum_i e^{-\\frac{Ei}{k_B T}}=\\sum_E g(E)e^{-\\frac{E}{k_B T}}\n",
    "\\end{equation}\n",
    "dónde la función $g(E)$ es la densidad de energías, como $g(E)$ es independiente de la temperatura se puede usar para encontrar todas las propiedades físicas del sistema a toda temperatura."
   ]
  },
  {
   "cell_type": "markdown",
   "metadata": {
    "slideshow": {
     "slide_type": "slide"
    }
   },
   "source": [
    "Aunque $g$ puede depender de varios factores (energía, magnetización, volúmen, vamos a tomar el caso más simple, esto es, cuando la densidad es univariada y sólo depende de E. También recordemos que\n",
    "\\begin{equation}\n",
    "g(E)=exp(S)\n",
    "\\end{equation}\n",
    "dónde $S$ es la entropía del sistema."
   ]
  },
  {
   "cell_type": "markdown",
   "metadata": {
    "slideshow": {
     "slide_type": "slide"
    }
   },
   "source": [
    "Supongamos que estamos en un estado en el sistema donde la energía es $E_1$, y como primera aproximación igual supongamos que la entroía en ese estado $S(E_i)$ es igual a cero. Vamos a aceptar el cambio de estado a uno con energía $E_2$ con la probabilidad de transición dada por\n",
    "\\begin{equation}\n",
    "p(E_1\\rightarrow E_2)=\\min\\left(\\frac{g(E_1)}{g(E_2)},1\\right)=\\min\\left(e^{S(E_1)-S(E_2)},1\\right)\n",
    "\\end{equation}"
   ]
  },
  {
   "cell_type": "markdown",
   "metadata": {
    "slideshow": {
     "slide_type": "subslide"
    }
   },
   "source": [
    "En cada intento de cambio de estado se actualiza la entropía por\n",
    "\\begin{equation}\n",
    "S(E_i)\\rightarrow S(E_i)+f\n",
    "\\end{equation}\n",
    "donde $f$ es conocido como factor de modificación que inicialmente se toma como 1. Sea $H$ el histograma de energías visitadas, se repiten los pasos anteriores hasta que dicho histograma esté \"plano\", esto es, haya visitado todos los estados el mismo número de veces."
   ]
  },
  {
   "cell_type": "markdown",
   "metadata": {
    "slideshow": {
     "slide_type": "subslide"
    }
   },
   "source": [
    "Cuando el hisograma esté plano, se resetea, manteniendo la misma entropía $S$ y se cambia el factor de modificación por $f\\rightarrow f/2$. El algoritmo de Wang-Landau termina cuando $f$ es lo suficientemente pequeña, en general del orden de $1\\times 10^{-7}$, encontrando $g(E_i)=e^{S(E_i)}$ para toda $i$ con $S$ la distribución de entropias final, obtenemos la densidad de energía que buscamos para calcular $Z$."
   ]
  },
  {
   "cell_type": "markdown",
   "metadata": {
    "slideshow": {
     "slide_type": "slide"
    }
   },
   "source": [
    "###- Algoritmo de Wang-Landau en el modelo de Ising\n",
    "\n",
    "Nosotros aplicamos el algoritmo de Wang-Landau para encontrar la función de partición de un sistema de $N\\times M$ espínes a una temperatura $T$, para eso usamos transiciones de flips de un sólo espín con las funciones de energía $E$ y cambio de energía $\\Delta E$ realizadas anteriormente en el curso. A continuación presentamos el algoritmo."
   ]
  },
  {
   "cell_type": "code",
   "execution_count": 1,
   "metadata": {
    "collapsed": true,
    "slideshow": {
     "slide_type": "slide"
    }
   },
   "outputs": [],
   "source": [
    "using funciones\n",
    "using Metropolis"
   ]
  },
  {
   "cell_type": "code",
   "execution_count": 2,
   "metadata": {
    "collapsed": false,
    "slideshow": {
     "slide_type": "fragment"
    }
   },
   "outputs": [
    {
     "data": {
      "text/plain": [
       "wanglandau (generic function with 1 method)"
      ]
     },
     "execution_count": 2,
     "metadata": {},
     "output_type": "execute_result"
    }
   ],
   "source": [
    "function wanglandau(N,M)\n",
    "    σ=config(N,M)\n",
    "    Emin, Emax = -2*N*M, 2*N*M\n",
    "    Energias = [Emin:Emax]      #[i for i in Emin:Emax] #Vector de energías\n",
    "    H = zeros(length(Energias)) #Histograma\n",
    "    S = zeros(length(Energias)) #Vector de entropías\n",
    "    E = energia(σ)\n",
    "    H[E-Emin+1] += 1 #Aumentamos en 1 el histograma\n",
    "    f = 1 #factor de modificación inicia\n",
    "    while f >= 1e-6\n",
    "        #LLenamos el histograma al principio\n",
    "        for k in 1:(2*length(H))\n",
    "            i,j=rand(1:N),rand(1:M)\n",
    "            ΔE=-2*energia_ij(σ.conf,N,M,i,j)\n",
    "            η = min(1, exp(S[E-Emin+1]-S[E+ΔE-Emin+1]))\n",
    "            if rand() < η\n",
    "                E = E + ΔE\n",
    "                σ.conf = flip_one(σ.conf,i,j)\n",
    "            end\n",
    "            H[E-Emin+1] += 1\n",
    "            S[E-Emin+1] += f\n",
    "        end\n",
    "        #Ahora empezamos el algoritmo\n",
    "        while minimum(H[H.!=0])<0.8*mean(H[H.!=0])\n",
    "            i,j=rand(1:N),rand(1:M)\n",
    "            ΔE=-2*energia_ij(σ.conf,N,M,i,j)\n",
    "            η = min(1, exp(S[E-Emin+1]-S[E+ΔE-Emin+1]))\n",
    "            if rand() < η\n",
    "                E = E + ΔE\n",
    "                σ.conf = flip_one(σ.conf,i,j)\n",
    "            end\n",
    "            H[E-Emin+1] += 1\n",
    "            S[E-Emin+1] += f\n",
    "            \n",
    "        end\n",
    "        H = zeros(length(Energias)) #Histograma\n",
    "        f = f/2\n",
    "    end\n",
    "    S\n",
    "end"
   ]
  },
  {
   "cell_type": "markdown",
   "metadata": {
    "slideshow": {
     "slide_type": "slide"
    }
   },
   "source": [
    "Podemos calcular la función de partición a la temperatura $T$"
   ]
  },
  {
   "cell_type": "markdown",
   "metadata": {
    "slideshow": {
     "slide_type": "fragment"
    }
   },
   "source": [
    "Ahora, sea N=6, M=6, por lo tanto la distribuciones de densidades final será"
   ]
  },
  {
   "cell_type": "code",
   "execution_count": 4,
   "metadata": {
    "collapsed": false,
    "slideshow": {
     "slide_type": "fragment"
    }
   },
   "outputs": [
    {
     "name": "stdout",
     "output_type": "stream",
     "text": [
      "elapsed time: 5.598817396 seconds (3550689040 bytes allocated, 29.02% gc time)\n"
     ]
    },
    {
     "data": {
      "text/plain": [
       "20-element Array{Float64,1}:\n",
       " 365.016\n",
       " 368.251\n",
       " 368.925\n",
       " 371.189\n",
       " 372.479\n",
       " 374.126\n",
       " 375.565\n",
       " 376.993\n",
       " 378.197\n",
       " 379.122\n",
       " 379.796\n",
       " 380.159\n",
       " 380.174\n",
       " 379.846\n",
       " 379.115\n",
       " 378.177\n",
       " 377.027\n",
       " 375.707\n",
       " 374.015\n",
       " 372.267"
      ]
     },
     "execution_count": 4,
     "metadata": {},
     "output_type": "execute_result"
    }
   ],
   "source": [
    "@time SS=wanglandau(5,5)\n",
    "SS[SS.!=0]"
   ]
  },
  {
   "cell_type": "code",
   "execution_count": 22,
   "metadata": {
    "collapsed": false,
    "slideshow": {
     "slide_type": "fragment"
    }
   },
   "outputs": [
    {
     "data": {
      "text/plain": [
       "0.801980198019802"
      ]
     },
     "execution_count": 22,
     "metadata": {},
     "output_type": "execute_result"
    }
   ],
   "source": [
    "#Proporcion de ceros\n",
    "propceros=sum(SS.==0)/length(SS)"
   ]
  },
  {
   "cell_type": "markdown",
   "metadata": {
    "slideshow": {
     "slide_type": "slide"
    }
   },
   "source": [
    "Encontramos la distribución de densidades y la función de partición a la temperatura $T$"
   ]
  },
  {
   "cell_type": "code",
   "execution_count": 23,
   "metadata": {
    "collapsed": false,
    "slideshow": {
     "slide_type": "fragment"
    }
   },
   "outputs": [],
   "source": [
    "#Densidad\n",
    "g=[exp(i) for i in SS];"
   ]
  },
  {
   "cell_type": "code",
   "execution_count": 26,
   "metadata": {
    "collapsed": false,
    "slideshow": {
     "slide_type": "fragment"
    }
   },
   "outputs": [
    {
     "data": {
      "text/plain": [
       "Z (generic function with 1 method)"
      ]
     },
     "execution_count": 26,
     "metadata": {},
     "output_type": "execute_result"
    }
   ],
   "source": [
    "Emin, Emax = -2*N*M, 2*N*M\n",
    "Energias = [Emin:Emax]\n",
    "#Función de particion\n",
    "function Z(T)\n",
    "    ZZ=0\n",
    "    for E in Energias\n",
    "        ZZ+=g[E-Emin+1]*exp(-β(T)*E)\n",
    "    end\n",
    "    ZZ\n",
    "end"
   ]
  },
  {
   "cell_type": "code",
   "execution_count": 25,
   "metadata": {
    "collapsed": false,
    "slideshow": {
     "slide_type": "skip"
    }
   },
   "outputs": [],
   "source": [
    "using PyPlot"
   ]
  },
  {
   "cell_type": "markdown",
   "metadata": {
    "slideshow": {
     "slide_type": "slide"
    }
   },
   "source": [
    "### - Gráfica de la función de partición"
   ]
  },
  {
   "cell_type": "code",
   "execution_count": 27,
   "metadata": {
    "collapsed": false,
    "slideshow": {
     "slide_type": "fragment"
    }
   },
   "outputs": [
    {
     "data": {
      "image/png": "[encoded data removed]",
      "text/plain": [
       "Figure(PyObject <matplotlib.figure.Figure object at 0x7f56fd0cb510>)"
      ]
     },
     "metadata": {},
     "output_type": "display_data"
    },
    {
     "data": {
      "text/plain": [
       "1-element Array{Any,1}:\n",
       " PyObject <matplotlib.lines.Line2D object at 0x7f56d74bb710>"
      ]
     },
     "execution_count": 27,
     "metadata": {},
     "output_type": "execute_result"
    }
   ],
   "source": [
    "plot(1:0.1:6, [Z(T) for T in 1:0.1:6])"
   ]
  },
  {
   "cell_type": "markdown",
   "metadata": {
    "slideshow": {
     "slide_type": "slide"
    }
   },
   "source": [
    "###- ¿Cómo sacarle jugo a la función de partición?\n",
    "\n",
    "Recordemos que si $U$ es la energía interna del sistema entonces\n",
    "\\begin{equation}\n",
    "U=\\frac{1}{Z} \\sum_i E_i e^{-\\beta E_i}\n",
    "\\end{equation}\n",
    "por lo tanto \n",
    "\\begin{equation}\n",
    "U=-\\frac{1}{Z}\\frac{\\partial Z}{\\partial\\beta}=\\frac{\\partial \\log(Z)}{\\partial\\beta}\n",
    "\\end{equation}\n",
    "Podemos aproximar \n",
    "\\begin{equation}\n",
    "\\frac{\\partial Z}{\\partial \\beta}\\approx \\frac{\\Delta Z}{\\Delta \\beta\n",
    "}=\\frac{\\Delta Z}{\\Delta (1/T)}\n",
    "\\end{equation}"
   ]
  },
  {
   "cell_type": "markdown",
   "metadata": {
    "slideshow": {
     "slide_type": "slide"
    }
   },
   "source": [
    "Generamos un vector grandote de Z's "
   ]
  },
  {
   "cell_type": "code",
   "execution_count": 28,
   "metadata": {
    "collapsed": false,
    "slideshow": {
     "slide_type": "fragment"
    }
   },
   "outputs": [
    {
     "name": "stdout",
     "output_type": "stream",
     "text": [
      "elapsed time: 0.004113265 seconds (798560 bytes allocated)\n"
     ]
    }
   ],
   "source": [
    "TT=[1.2:0.1:6]\n",
    "@time ZZ=[Z(T) for T in TT];"
   ]
  },
  {
   "cell_type": "markdown",
   "metadata": {
    "slideshow": {
     "slide_type": "fragment"
    }
   },
   "source": [
    "Encontramos la energía interna diferenciando el vector anterior"
   ]
  },
  {
   "cell_type": "code",
   "execution_count": 34,
   "metadata": {
    "collapsed": false,
    "slideshow": {
     "slide_type": "fragment"
    }
   },
   "outputs": [
    {
     "data": {
      "text/plain": [
       "48-element Array{Any,1}:\n",
       " -54.2451   \n",
       " -36.7718   \n",
       " -26.5211   \n",
       " -20.1596   \n",
       " -15.984    \n",
       " -13.0953   \n",
       " -11.0023   \n",
       "  -9.42479  \n",
       "  -8.19619  \n",
       "  -7.21293  \n",
       "  -6.40804  \n",
       "  -5.73663  \n",
       "  -5.16762  \n",
       "   ⋮        \n",
       "  -0.608878 \n",
       "  -0.539887 \n",
       "  -0.474228 \n",
       "  -0.411661 \n",
       "  -0.351969 \n",
       "  -0.294951 \n",
       "  -0.24043  \n",
       "  -0.188242 \n",
       "  -0.138236 \n",
       "  -0.0902752\n",
       "  -0.0442351\n",
       "   0.0      "
      ]
     },
     "execution_count": 34,
     "metadata": {},
     "output_type": "execute_result"
    }
   ],
   "source": [
    "U=Float64[]\n",
    "for i in 1:(length(TT)-1)\n",
    "    push!(U,-(ZZ[i+1]-ZZ[i])/(ZZ[i+1]*(1/TT[i+1]-1/TT[i])))\n",
    "end\n",
    "U=[i-maximum(U) for i in U]"
   ]
  },
  {
   "cell_type": "markdown",
   "metadata": {
    "slideshow": {
     "slide_type": "slide"
    }
   },
   "source": [
    "###- Gráficad de la energía interna"
   ]
  },
  {
   "cell_type": "code",
   "execution_count": 35,
   "metadata": {
    "collapsed": false,
    "slideshow": {
     "slide_type": "fragment"
    }
   },
   "outputs": [
    {
     "data": {
      "image/png": "[encoded data removed]",
      "text/plain": [
       "Figure(PyObject <matplotlib.figure.Figure object at 0x7f56d7476850>)"
      ]
     },
     "metadata": {},
     "output_type": "display_data"
    },
    {
     "data": {
      "text/plain": [
       "1-element Array{Any,1}:\n",
       " PyObject <matplotlib.lines.Line2D object at 0x7f56d72ccc90>"
      ]
     },
     "execution_count": 35,
     "metadata": {},
     "output_type": "execute_result"
    }
   ],
   "source": [
    "plot(TT[2:end],U)"
   ]
  },
  {
   "cell_type": "markdown",
   "metadata": {
    "collapsed": true,
    "slideshow": {
     "slide_type": "slide"
    }
   },
   "source": [
    "Calculamos la energía promedio respecto al tiempo usando el algoritmo de metropolis y graficamos"
   ]
  },
  {
   "cell_type": "code",
   "execution_count": 32,
   "metadata": {
    "collapsed": false,
    "slideshow": {
     "slide_type": "fragment"
    }
   },
   "outputs": [
    {
     "name": "stdout",
     "output_type": "stream",
     "text": [
      "elapsed time: 17.004108897 seconds (4650082480 bytes allocated, 39.41% gc time)\n"
     ]
    }
   ],
   "source": [
    "@time Umet=[energiaprom(5,5,T,1e5) for T in TT];"
   ]
  },
  {
   "cell_type": "code",
   "execution_count": 33,
   "metadata": {
    "collapsed": false,
    "slideshow": {
     "slide_type": "fragment"
    }
   },
   "outputs": [
    {
     "data": {
      "image/png": "[encoded data removed]",
      "text/plain": [
       "Figure(PyObject <matplotlib.figure.Figure object at 0x7f56d7415e50>)"
      ]
     },
     "metadata": {},
     "output_type": "display_data"
    },
    {
     "data": {
      "text/plain": [
       "1-element Array{Any,1}:\n",
       " PyObject <matplotlib.lines.Line2D object at 0x7f56d7395210>"
      ]
     },
     "execution_count": 33,
     "metadata": {},
     "output_type": "execute_result"
    }
   ],
   "source": [
    "plot(TT,Umet)"
   ]
  },
  {
   "cell_type": "markdown",
   "metadata": {
    "slideshow": {
     "slide_type": "slide"
    }
   },
   "source": [
    "##- Conclusiones"
   ]
  },
  {
   "cell_type": "markdown",
   "metadata": {
    "slideshow": {
     "slide_type": "fragment"
    }
   },
   "source": [
    "- El algoritmo de Wang-Landau nos permite encontrar de manera \"explícita\" a la función de partición que no depende de la temperatura, lo cual es una ventaja respecto al algoritmo de Metropolis.\n",
    "\n",
    "- Para arreglos pequeños el algoritmo de Wang-Landau es más eficiente en generar las energías internas a cualquier temperatura, ya que en el algoritmo de metropolis se tiene que calcular la caminata aleatoria para cada temperatura.\n",
    "\n",
    "- Para arreglos grandes, el algoritmo de Wang-Landau es muy poco eficiente."
   ]
  }
 ],
 "metadata": {
  "kernelspec": {
   "display_name": "Julia 0.3.1-pre",
   "language": "julia",
   "name": "julia 0.3"
  },
  "language_info": {
   "name": "julia",
   "version": "0.3.1"
  }
 },
 "nbformat": 4,
 "nbformat_minor": 0
}
