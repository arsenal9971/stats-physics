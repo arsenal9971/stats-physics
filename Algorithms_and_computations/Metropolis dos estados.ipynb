{
 "metadata": {
  "language": "Julia",
  "name": "",
  "signature": "sha256:7a75707dd001a4155e801857fe4cc1d7f7627205f786c62575127fa72a01eb34"
 },
 "nbformat": 3,
 "nbformat_minor": 0,
 "worksheets": [
  {
   "cells": [
    {
     "cell_type": "markdown",
     "metadata": {},
     "source": [
      "##Algoritmo de Metropolis para sistema de dos estados"
     ]
    },
    {
     "cell_type": "markdown",
     "metadata": {},
     "source": [
      "Tenemos dos estados $\\{0,1\\}$, con probabilidades $\\pi(0)$ y $pi(1)$, con el Algoritmo de Metr\u00f3polis vamos generar una cadena de markov de N pasos, con probabilidades de equilibrio $\\pi(0)$ y $pi(1)$."
     ]
    },
    {
     "cell_type": "code",
     "collapsed": false,
     "input": [
      "k=int(rand(0:1))#Generamos un n\u00famero aleatorio 0 o 1"
     ],
     "language": "python",
     "metadata": {},
     "outputs": [
      {
       "metadata": {},
       "output_type": "pyout",
       "prompt_number": 63,
       "text": [
        "1"
       ]
      }
     ],
     "prompt_number": 63
    },
    {
     "cell_type": "code",
     "collapsed": false,
     "input": [
      "\u03c0=[0.1,0.9] #Las probabilidades de transici\u00f3n "
     ],
     "language": "python",
     "metadata": {},
     "outputs": [
      {
       "metadata": {},
       "output_type": "pyout",
       "prompt_number": 64,
       "text": [
        "2-element Array{Float64,1}:\n",
        " 0.1\n",
        " 0.9"
       ]
      }
     ],
     "prompt_number": 64
    },
    {
     "cell_type": "code",
     "collapsed": false,
     "input": [
      "if k==0\n",
      "    l=int(1)\n",
      "else\n",
      "    l=int(0)\n",
      "    \u03a5=\u03c0[l]/\u03c0[k]\n",
      "    r=ran()\n",
      "    if(r<\u03a5)\n",
      "        k=l\n",
      "    end\n",
      "end"
     ],
     "language": "python",
     "metadata": {},
     "outputs": [
      {
       "ename": "LoadError",
       "evalue": "BoundsError()\nwhile loading In[68], in expression starting on line 5",
       "output_type": "pyerr",
       "traceback": [
        "BoundsError()\nwhile loading In[68], in expression starting on line 5",
        "",
        " in getindex at array.jl:259"
       ]
      }
     ],
     "prompt_number": 68
    },
    {
     "cell_type": "code",
     "collapsed": false,
     "input": [
      "println(\"El nuevo estado es k= $k\")"
     ],
     "language": "python",
     "metadata": {},
     "outputs": [
      {
       "output_type": "stream",
       "stream": "stdout",
       "text": [
        "El nuevo estado es k= 1\n"
       ]
      }
     ],
     "prompt_number": 66
    },
    {
     "cell_type": "code",
     "collapsed": false,
     "input": [
      "k"
     ],
     "language": "python",
     "metadata": {},
     "outputs": [
      {
       "metadata": {},
       "output_type": "pyout",
       "prompt_number": 67,
       "text": [
        "1"
       ]
      }
     ],
     "prompt_number": 67
    },
    {
     "cell_type": "code",
     "collapsed": false,
     "input": [],
     "language": "python",
     "metadata": {},
     "outputs": []
    }
   ],
   "metadata": {}
  }
 ]
}