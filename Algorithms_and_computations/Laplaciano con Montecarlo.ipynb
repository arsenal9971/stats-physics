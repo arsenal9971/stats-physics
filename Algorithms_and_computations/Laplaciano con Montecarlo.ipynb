{
 "metadata": {
  "language": "Julia",
  "name": "",
  "signature": "sha256:e67f7cb3379e0971e67b81906ac839e2baebe37904d99e859f4523e04f47d22b"
 },
 "nbformat": 3,
 "nbformat_minor": 0,
 "worksheets": [
  {
   "cells": [
    {
     "cell_type": "heading",
     "level": 1,
     "metadata": {},
     "source": [
      "Soluci\u00f3n de la ecuaci\u00f3n laplaciana en un cuadrado con m\u00e9todo Monte Carlo"
     ]
    },
    {
     "cell_type": "markdown",
     "metadata": {},
     "source": [
      "En este cuaderno resolveremos el sistema:\n",
      "\\begin{equation}\n",
      "\\begin{aligned}\n",
      "\\Delta u(x,y)&=0 \\text{  en   } \\Omega=[0,1]^2 \\\\\n",
      "u(x,0)&=u(x,1)=2\\\\\n",
      "u(0,y)&=u(1,y)=3\n",
      "\\end{aligned}\n",
      "\\end{equation}\n",
      "Usando el M\u00e9todo Montecarlo, c\u00f3mo se puede leer en *\"Partial Differential Equations for Scientists and Engineer\"* de S. Farlow."
     ]
    },
    {
     "cell_type": "code",
     "collapsed": false,
     "input": [
      "N=100 #N\u00famero de puntos en cada direcci\u00f3n"
     ],
     "language": "python",
     "metadata": {},
     "outputs": [
      {
       "metadata": {},
       "output_type": "pyout",
       "prompt_number": 6,
       "text": [
        "100"
       ]
      }
     ],
     "prompt_number": 6
    },
    {
     "cell_type": "code",
     "collapsed": false,
     "input": [
      "u=rand(100,100);"
     ],
     "language": "python",
     "metadata": {},
     "outputs": [],
     "prompt_number": 8
    },
    {
     "cell_type": "code",
     "collapsed": false,
     "input": [
      "for i in 0:100\n",
      "    for j in 0:100\n",
      "for k in 1:1000 \n",
      "            while i<=100 && j<=100 && i>=0 && j>=0\n",
      "    rx=rand([-1,1])#Direcci\u00f3n aleatoria en x\n",
      "    ry=rand([-1,1]) #Direcci\u00f3n aleatoria en x\n",
      "    i=i+rx\n",
      "    j=j+ry\n",
      "end\n",
      "    if i>=100\n",
      "        N1=N1+1\n",
      "    end\n",
      "    if i<=0\n",
      "        N2=N2+1\n",
      "    end\n",
      "    if j>=100\n",
      "        N3=N3+1\n",
      "    end\n",
      "    if i<=0\n",
      "        N4=N4+1\n",
      "    end\n",
      "    i=50\n",
      "    j=50 #inicializamos las variables otra vez   \n",
      "    P1=N1/(N1+N2+N3+N4)\n",
      "    P2=N2/(N1+N2+N3+N4)\n",
      "    P3=N3/(N1+N2+N3+N4)\n",
      "    P4=N4/(N1+N2+N3+N4) \n",
      "            u[ii,jj]=3*(P1+P2)+2*(P3+P4)\n",
      "            N1=0\n",
      "            N2=0\n",
      "            N3=0\n",
      "            N4=0\n",
      "    end\n",
      "end\n",
      "\n",
      "    \n",
      "    "
     ],
     "language": "python",
     "metadata": {},
     "outputs": [
      {
       "ename": "LoadError",
       "evalue": "`setindex!` has no method matching setindex!(::Float64, ::Float64, ::Int64, ::Int64)\nwhile loading In[12], in expression starting on line 1",
       "output_type": "pyerr",
       "traceback": [
        "`setindex!` has no method matching setindex!(::Float64, ::Float64, ::Int64, ::Int64)\nwhile loading In[12], in expression starting on line 1",
        "",
        " in anonymous at no file:31"
       ]
      }
     ],
     "prompt_number": 12
    },
    {
     "cell_type": "code",
     "collapsed": false,
     "input": [],
     "language": "python",
     "metadata": {},
     "outputs": []
    }
   ],
   "metadata": {}
  }
 ]
}