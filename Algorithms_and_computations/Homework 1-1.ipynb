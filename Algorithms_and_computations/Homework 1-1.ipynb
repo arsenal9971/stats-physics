{
 "metadata": {
  "language": "Julia",
  "name": "",
  "signature": "sha256:367871bd2f56d721a43e0398015e1e8777120d566d9f5e17d6f6fb3355356500"
 },
 "nbformat": 3,
 "nbformat_minor": 0,
 "worksheets": [
  {
   "cells": [
    {
     "cell_type": "heading",
     "level": 1,
     "metadata": {},
     "source": [
      "RMS-deviation of $\\pi$ multirun"
     ]
    },
    {
     "cell_type": "code",
     "collapsed": false,
     "input": [
      "function direct_pi(N)\n",
      "    n_hits=0\n",
      "    for i in 1:N\n",
      "        x=2*rand()-1\n",
      "        y=2*rand()-1\n",
      "        if x^2+y^2<1.0\n",
      "            n_hits += 1\n",
      "        end\n",
      "    end\n",
      "    return n_hits\n",
      "end"
     ],
     "language": "python",
     "metadata": {},
     "outputs": [
      {
       "metadata": {},
       "output_type": "pyout",
       "prompt_number": 2,
       "text": [
        "direct_pi (generic function with 1 method)"
       ]
      }
     ],
     "prompt_number": 2
    },
    {
     "cell_type": "code",
     "collapsed": false,
     "input": [
      "pi=[]\n",
      "n_runs=1000\n",
      "n_trials = 4000;"
     ],
     "language": "python",
     "metadata": {},
     "outputs": [],
     "prompt_number": 3
    },
    {
     "cell_type": "code",
     "collapsed": false,
     "input": [
      "for run in 1:n_runs\n",
      "    push!(pi,4.0 * direct_pi(n_trials) / Float64(n_trials))\n",
      "end"
     ],
     "language": "python",
     "metadata": {},
     "outputs": [],
     "prompt_number": 4
    },
    {
     "cell_type": "code",
     "collapsed": false,
     "input": [
      "x=[(i-3.1415926)^2 for i in pi]\n",
      "rms_dev=sqrt((1/n_runs)*sum(x))"
     ],
     "language": "python",
     "metadata": {},
     "outputs": [
      {
       "metadata": {},
       "output_type": "pyout",
       "prompt_number": 7,
       "text": [
        "0.026129338888689874"
       ]
      }
     ],
     "prompt_number": 7
    },
    {
     "cell_type": "code",
     "collapsed": false,
     "input": [],
     "language": "python",
     "metadata": {},
     "outputs": []
    }
   ],
   "metadata": {}
  }
 ]
}